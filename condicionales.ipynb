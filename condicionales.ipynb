{
  "cells": [
    {
      "cell_type": "markdown",
      "metadata": {
        "id": "view-in-github",
        "colab_type": "text"
      },
      "source": [
        "<a href=\"https://colab.research.google.com/github/Batman440/CONDICIONAL/blob/main/condicionales.ipynb\" target=\"_parent\"><img src=\"https://colab.research.google.com/assets/colab-badge.svg\" alt=\"Open In Colab\"/></a>"
      ]
    },
    {
      "cell_type": "markdown",
      "metadata": {
        "id": "Wf5KrEb6vrkR"
      },
      "source": [
        "###Condicionales\n",
        "\n",
        "- presentado por:Ivan Dario julio diaz\n",
        "- email:ivan.julio@upb.edu.co\n"
      ]
    },
    {
      "cell_type": "code",
      "source": [],
      "metadata": {
        "id": "24oxdCoZ8tY0"
      },
      "execution_count": null,
      "outputs": []
    },
    {
      "cell_type": "markdown",
      "source": [
        "**Descripcion del problema**\n",
        " Un cine local ofrece promociones en las entradas según el horario de la función. Las reglas para determinar el costo de las entradas son las siguientes:\n",
        "\n",
        "Para cualquier función antes de las 6:00 p.m., las entradas tienen los siguientes precios:\n",
        "Niños: $5,000 COP.\n",
        "Adultos: $7,500 COP.\n",
        "Para funciones después de las 6:00 p.m., el precio de la entrada es general:\n",
        "Entrada general: $10,000 COP por persona.\n",
        "Además, si el total de la compra supera los $50,000 COP, el cine regala una crispeta familiar.\n",
        "Entradas del problema:\n",
        "num_ninos: número de niños en el grupo.\n",
        "num_adultos: número de adultos en el grupo.\n",
        "hora_funcion: hora de la función en formato de 24 horas (por ejemplo, 14 para las 2 p.m., 19 para las 7 p.m.).\n",
        "Salidas esperadas:\n",
        "El total a pagar por las entradas.\n",
        "Si se obtiene o no la crispeta familiar.\n",
        "\n",
        "Ejemplo 1:\n",
        "Entrada: num_ninos = 2, num_adultos = 3, hora_funcion = 15.\n",
        "Salida: Total a pagar = $32,500 COP, crispeta familiar = No.\n",
        "Explicación del ejemplo:\n",
        "\n",
        "La función es a las 3:00 p.m. (antes de las 6:00 p.m.), por lo que se aplican las tarifas de la promoción:\n",
        "Niños: 2 * $5,000 = $10,000 COP.\n",
        "Adultos: 3 * $7,500 = $22,500 COP.\n",
        "Total: $10,000 + $22,500 = $32,500 COP.\n",
        "Como el total es menor a $50,000, no se obtiene la crispeta familiar.\n",
        "\n",
        "Ejemplo 2:\n",
        "Entrada: num_ninos = 3, num_adultos = 5, hora_funcion = 19.\n",
        "Salida: Total a pagar = $80,000 COP, crispeta familiar = Sí.\n",
        "Explicación del ejemplo:\n",
        "\n",
        "La función es a las 7:00 p.m. (después de las 6:00 p.m.), por lo que se aplica el precio de entrada general:\n",
        "General: 8 * $10,000 = $80,000 COP.\n",
        "Total: $80,000 COP.\n",
        "Como el total es mayor a $50,000, se obtiene la crispeta familiar"
      ],
      "metadata": {
        "id": "3q1wOtlU8uez"
      }
    },
    {
      "cell_type": "code",
      "source": [
        "## algortimo para determinar el total a pagar en el cine\n",
        "1. iniciar\n",
        "2. obtener el numero de niños que se entrara en ñla funcion\n",
        "3. obtener el numero de adultos que entrara en lña fumncion\n",
        "4. obtenr la hora de la funcion\n",
        "5.determinar el total dependiendode la hora de la funcion\n",
        "* si la hora es menor a 18, entonces el total=(num_ niños) + 500+num_adultos*7500\n",
        "* si la hora es mayor o igual a 18, entonces: total=(num_niños+num_adultos)*10000\n",
        " 6. mostrar total\n",
        " 7. si el total es mayor a 50000,indicar que se han ganado una cripeta gratis\n",
        " 8. finalizar\n"
      ],
      "metadata": {
        "id": "54jgRKOo9fPa"
      },
      "execution_count": null,
      "outputs": []
    },
    {
      "cell_type": "markdown",
      "source": [
        "## algortimo para determinar el total a pagar en el cine\n",
        "1. iniciar\n",
        "2. obtener el numero de niños que se entrara en ñla funcion\n",
        "3. obtener el numero de adultos que entrara en lña fumncion\n",
        "4. obtenr la hora de la funcion\n",
        "5.determinar el total dependiendode la hora de la funcion\n",
        "* si la hora es menor a 18, entonces el total=(num_ niños) + 500+num_adultos*7500\n",
        "* si la hora es mayor o igual a 18, entonces: total=(num_niños+num_adultos)*10000\n",
        " 6. mostrar total\n",
        " 7. si el total es mayor a 50000,indicar que se han ganado una cripeta gratis\n",
        " 8. finalizar\n"
      ],
      "metadata": {
        "id": "szkIeAqWC0B1"
      }
    },
    {
      "cell_type": "markdown",
      "source": [
        "#**pseudocodigo**\n",
        "rogram calcularEntradasCine\n",
        "Start\n",
        "  // Programa para calcular el total de las entradas a cine\n",
        "  Declare Int num_ninos\n",
        "  Declare Int num_adultos\n",
        "  Declare Int hora\n",
        "  Declare Float total\n",
        "\n",
        "  Display \"Ingrese el número de niños: \"\n",
        "  Input num_ninos\n",
        "  Display \"Ingrese el número de adultos: \"\n",
        "  Input num_adultos\n",
        "  Display \"Ingrese la hora de la función (0 - 23): \"\n",
        "  Input hora\n",
        "  \n",
        "  // Determinar el total a pagar dependiendo de la hora de la función\n",
        "  If hora < 18 Then\n",
        "    total = num_ninos * 5000 + num_adultos * 7500\n",
        "  Else\n",
        "    total = (num_ninos + num_adultos) * 10000\n",
        "  End If\n",
        "  \n",
        "  Display \"El total a pagar es \", total\n",
        "\n",
        "  // Determinar si el grupo se gana unas crispetas\n",
        "  If total > 50000 Then\n",
        "    Display \"Se ha ganado unas crispetas familiar.\"\n",
        "  End If\n",
        "  \n",
        "  Display \"Disfrute de la función :)\"\n",
        "\n",
        "End"
      ],
      "metadata": {
        "id": "kU3eCzLNC5CH"
      }
    },
    {
      "cell_type": "code",
      "execution_count": null,
      "metadata": {
        "id": "zwFnJsE6vjf8"
      },
      "outputs": [],
      "source": [
        "num_ninos = int(input(\"Ingrese el número de niños: \"))\n",
        "num_adultos = int(input(\"Ingrese el número de adultos: \"))\n",
        "hora = int(input(\"Ingrese la hora de la función (0 - 23): \"))\n",
        "\n",
        "if hora < 18:\n",
        "  total = num_ninos * 5000 + num_adultos * 7500\n",
        "else:\n",
        "  total = (num_ninos + num_adultos) * 10000\n",
        "\n",
        "print(\"El total a pagar es $\", total)\n",
        "\n",
        "if total > 50000:\n",
        "  print(\"Se ha ganado unas crispetas familiar.\")\n",
        "\n",
        "print(\"Disfrute de la función :)\")"
      ]
    }
  ],
  "metadata": {
    "colab": {
      "provenance": [],
      "include_colab_link": true
    },
    "kernelspec": {
      "display_name": "Python 3",
      "name": "python3"
    }
  },
  "nbformat": 4,
  "nbformat_minor": 0
}